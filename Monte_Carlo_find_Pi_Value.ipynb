{
 "cells": [
  {
   "cell_type": "code",
   "execution_count": 4,
   "id": "583bd752",
   "metadata": {},
   "outputs": [],
   "source": [
    "import numpy as np\n",
    "import matplotlib.pyplot as  plt "
   ]
  },
  {
   "cell_type": "code",
   "execution_count": 5,
   "id": "bad1af01",
   "metadata": {},
   "outputs": [
    {
     "data": {
      "image/png": "[encoded data removed]",
      "text/plain": [
       "<Figure size 432x288 with 1 Axes>"
      ]
     },
     "metadata": {
      "needs_background": "light"
     },
     "output_type": "display_data"
    },
    {
     "name": "stdout",
     "output_type": "stream",
     "text": [
      "[[0.60146013 0.67761986]\n",
      " [0.8244379  0.39865985]\n",
      " [0.95826858 0.67282982]\n",
      " ...\n",
      " [0.42361393 0.92309869]\n",
      " [0.45058586 0.70127877]\n",
      " [0.02238407 0.62641381]]\n"
     ]
    }
   ],
   "source": [
    "# number of sample \n",
    "n = 10000000\n",
    "# random every point have same chance (2 deimension )\n",
    "rocks = np.random.rand(n, 2)  \n",
    "#plot random dimension0---->x 1------->y\n",
    "plt.plot(rocks[:,0],rocks[:,1], \".\")\n",
    "plt.axis(\"equal\")\n",
    "plt.show()\n",
    "print(rocks)"
   ]
  },
  {
   "cell_type": "code",
   "execution_count": 6,
   "id": "ffa17adb",
   "metadata": {},
   "outputs": [
    {
     "data": {
      "image/png": "[encoded data removed]",
      "text/plain": [
       "<Figure size 432x288 with 1 Axes>"
      ]
     },
     "metadata": {
      "needs_background": "light"
     },
     "output_type": "display_data"
    },
    {
     "name": "stdout",
     "output_type": "stream",
     "text": [
      "Pi value that calculated from Monte carlo Algorithm  3.141364\n"
     ]
    }
   ],
   "source": [
    "j = []\n",
    "for i, rock in enumerate(rocks):\n",
    "    if rock[0]**2 + rock[1]**2 <= 1 :\n",
    "        j.append(i)\n",
    "        \n",
    "j = np.array(j)\n",
    "pi = 4*len(j)/n\n",
    "\n",
    "\n",
    "\n",
    "# place blue dot first \n",
    "plt.plot(rocks[:,0],rocks[:,1], \".\")\n",
    "\n",
    "# place red dot only that in side circle \n",
    "plt.plot(rocks[j, 0],rocks[j, 1], \".r\")\n",
    "\n",
    "plt.axis(\"equal\")\n",
    "plt.show()\n",
    "\n",
    "print(\"Pi value that calculated from Monte carlo Algorithm  \" + str(pi))"
   ]
  }
 ],
 "metadata": {
  "interpreter": {
   "hash": "eb05fc5293c4e0da122d58fd74bcd689822cf832bf19f3839722d35ff1849cb5"
  },
  "kernelspec": {
   "display_name": "Python 3 (ipykernel)",
   "language": "python",
   "name": "python3"
  },
  "language_info": {
   "codemirror_mode": {
    "name": "ipython",
    "version": 3
   },
   "file_extension": ".py",
   "mimetype": "text/x-python",
   "name": "python",
   "nbconvert_exporter": "python",
   "pygments_lexer": "ipython3",
   "version": "3.9.7"
  }
 },
 "nbformat": 4,
 "nbformat_minor": 5
}
